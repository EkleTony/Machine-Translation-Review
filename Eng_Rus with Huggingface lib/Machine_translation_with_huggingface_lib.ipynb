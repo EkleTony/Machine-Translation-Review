{
  "nbformat": 4,
  "nbformat_minor": 0,
  "metadata": {
    "colab": {
      "name": "Machine translation with huggingface lib.ipynb",
      "provenance": []
    },
    "kernelspec": {
      "name": "python3",
      "display_name": "Python 3"
    },
    "language_info": {
      "name": "python"
    },
    "accelerator": "GPU",
    "widgets": {
      "application/vnd.jupyter.widget-state+json": {
        "5645f39f52b74b6a8385588d3817fbc1": {
          "model_module": "@jupyter-widgets/controls",
          "model_name": "HBoxModel",
          "model_module_version": "1.5.0",
          "state": {
            "_dom_classes": [],
            "_model_module": "@jupyter-widgets/controls",
            "_model_module_version": "1.5.0",
            "_model_name": "HBoxModel",
            "_view_count": null,
            "_view_module": "@jupyter-widgets/controls",
            "_view_module_version": "1.5.0",
            "_view_name": "HBoxView",
            "box_style": "",
            "children": [
              "IPY_MODEL_2ed96ae1bcad497f82ee0fa8bcdc234b",
              "IPY_MODEL_95727100ba0b498c9c5d7fb3f62e5e1b",
              "IPY_MODEL_1c0e39319c854ebd871eb0ef81b77d7f"
            ],
            "layout": "IPY_MODEL_67e96b02e8ec4ac29995173ad16c21d4"
          }
        },
        "2ed96ae1bcad497f82ee0fa8bcdc234b": {
          "model_module": "@jupyter-widgets/controls",
          "model_name": "HTMLModel",
          "model_module_version": "1.5.0",
          "state": {
            "_dom_classes": [],
            "_model_module": "@jupyter-widgets/controls",
            "_model_module_version": "1.5.0",
            "_model_name": "HTMLModel",
            "_view_count": null,
            "_view_module": "@jupyter-widgets/controls",
            "_view_module_version": "1.5.0",
            "_view_name": "HTMLView",
            "description": "",
            "description_tooltip": null,
            "layout": "IPY_MODEL_77936ff9b5a24f75a48fe85f243f4618",
            "placeholder": "​",
            "style": "IPY_MODEL_f71577be4c9849259c5ee16eb0458cbe",
            "value": "Downloading: 100%"
          }
        },
        "95727100ba0b498c9c5d7fb3f62e5e1b": {
          "model_module": "@jupyter-widgets/controls",
          "model_name": "FloatProgressModel",
          "model_module_version": "1.5.0",
          "state": {
            "_dom_classes": [],
            "_model_module": "@jupyter-widgets/controls",
            "_model_module_version": "1.5.0",
            "_model_name": "FloatProgressModel",
            "_view_count": null,
            "_view_module": "@jupyter-widgets/controls",
            "_view_module_version": "1.5.0",
            "_view_name": "ProgressView",
            "bar_style": "success",
            "description": "",
            "description_tooltip": null,
            "layout": "IPY_MODEL_8fbc723cd28c4bd88f6b14cf20d7214e",
            "max": 42,
            "min": 0,
            "orientation": "horizontal",
            "style": "IPY_MODEL_97fe9fcf3fd74dc9b08699c242b3f586",
            "value": 42
          }
        },
        "1c0e39319c854ebd871eb0ef81b77d7f": {
          "model_module": "@jupyter-widgets/controls",
          "model_name": "HTMLModel",
          "model_module_version": "1.5.0",
          "state": {
            "_dom_classes": [],
            "_model_module": "@jupyter-widgets/controls",
            "_model_module_version": "1.5.0",
            "_model_name": "HTMLModel",
            "_view_count": null,
            "_view_module": "@jupyter-widgets/controls",
            "_view_module_version": "1.5.0",
            "_view_name": "HTMLView",
            "description": "",
            "description_tooltip": null,
            "layout": "IPY_MODEL_c7bfc399fd2c4d2986f1a15ca9949269",
            "placeholder": "​",
            "style": "IPY_MODEL_3e806fc5c1b145bbba134466b7ca8270",
            "value": " 42.0/42.0 [00:00&lt;00:00, 1.19kB/s]"
          }
        },
        "67e96b02e8ec4ac29995173ad16c21d4": {
          "model_module": "@jupyter-widgets/base",
          "model_name": "LayoutModel",
          "model_module_version": "1.2.0",
          "state": {
            "_model_module": "@jupyter-widgets/base",
            "_model_module_version": "1.2.0",
            "_model_name": "LayoutModel",
            "_view_count": null,
            "_view_module": "@jupyter-widgets/base",
            "_view_module_version": "1.2.0",
            "_view_name": "LayoutView",
            "align_content": null,
            "align_items": null,
            "align_self": null,
            "border": null,
            "bottom": null,
            "display": null,
            "flex": null,
            "flex_flow": null,
            "grid_area": null,
            "grid_auto_columns": null,
            "grid_auto_flow": null,
            "grid_auto_rows": null,
            "grid_column": null,
            "grid_gap": null,
            "grid_row": null,
            "grid_template_areas": null,
            "grid_template_columns": null,
            "grid_template_rows": null,
            "height": null,
            "justify_content": null,
            "justify_items": null,
            "left": null,
            "margin": null,
            "max_height": null,
            "max_width": null,
            "min_height": null,
            "min_width": null,
            "object_fit": null,
            "object_position": null,
            "order": null,
            "overflow": null,
            "overflow_x": null,
            "overflow_y": null,
            "padding": null,
            "right": null,
            "top": null,
            "visibility": null,
            "width": null
          }
        },
        "77936ff9b5a24f75a48fe85f243f4618": {
          "model_module": "@jupyter-widgets/base",
          "model_name": "LayoutModel",
          "model_module_version": "1.2.0",
          "state": {
            "_model_module": "@jupyter-widgets/base",
            "_model_module_version": "1.2.0",
            "_model_name": "LayoutModel",
            "_view_count": null,
            "_view_module": "@jupyter-widgets/base",
            "_view_module_version": "1.2.0",
            "_view_name": "LayoutView",
            "align_content": null,
            "align_items": null,
            "align_self": null,
            "border": null,
            "bottom": null,
            "display": null,
            "flex": null,
            "flex_flow": null,
            "grid_area": null,
            "grid_auto_columns": null,
            "grid_auto_flow": null,
            "grid_auto_rows": null,
            "grid_column": null,
            "grid_gap": null,
            "grid_row": null,
            "grid_template_areas": null,
            "grid_template_columns": null,
            "grid_template_rows": null,
            "height": null,
            "justify_content": null,
            "justify_items": null,
            "left": null,
            "margin": null,
            "max_height": null,
            "max_width": null,
            "min_height": null,
            "min_width": null,
            "object_fit": null,
            "object_position": null,
            "order": null,
            "overflow": null,
            "overflow_x": null,
            "overflow_y": null,
            "padding": null,
            "right": null,
            "top": null,
            "visibility": null,
            "width": null
          }
        },
        "f71577be4c9849259c5ee16eb0458cbe": {
          "model_module": "@jupyter-widgets/controls",
          "model_name": "DescriptionStyleModel",
          "model_module_version": "1.5.0",
          "state": {
            "_model_module": "@jupyter-widgets/controls",
            "_model_module_version": "1.5.0",
            "_model_name": "DescriptionStyleModel",
            "_view_count": null,
            "_view_module": "@jupyter-widgets/base",
            "_view_module_version": "1.2.0",
            "_view_name": "StyleView",
            "description_width": ""
          }
        },
        "8fbc723cd28c4bd88f6b14cf20d7214e": {
          "model_module": "@jupyter-widgets/base",
          "model_name": "LayoutModel",
          "model_module_version": "1.2.0",
          "state": {
            "_model_module": "@jupyter-widgets/base",
            "_model_module_version": "1.2.0",
            "_model_name": "LayoutModel",
            "_view_count": null,
            "_view_module": "@jupyter-widgets/base",
            "_view_module_version": "1.2.0",
            "_view_name": "LayoutView",
            "align_content": null,
            "align_items": null,
            "align_self": null,
            "border": null,
            "bottom": null,
            "display": null,
            "flex": null,
            "flex_flow": null,
            "grid_area": null,
            "grid_auto_columns": null,
            "grid_auto_flow": null,
            "grid_auto_rows": null,
            "grid_column": null,
            "grid_gap": null,
            "grid_row": null,
            "grid_template_areas": null,
            "grid_template_columns": null,
            "grid_template_rows": null,
            "height": null,
            "justify_content": null,
            "justify_items": null,
            "left": null,
            "margin": null,
            "max_height": null,
            "max_width": null,
            "min_height": null,
            "min_width": null,
            "object_fit": null,
            "object_position": null,
            "order": null,
            "overflow": null,
            "overflow_x": null,
            "overflow_y": null,
            "padding": null,
            "right": null,
            "top": null,
            "visibility": null,
            "width": null
          }
        },
        "97fe9fcf3fd74dc9b08699c242b3f586": {
          "model_module": "@jupyter-widgets/controls",
          "model_name": "ProgressStyleModel",
          "model_module_version": "1.5.0",
          "state": {
            "_model_module": "@jupyter-widgets/controls",
            "_model_module_version": "1.5.0",
            "_model_name": "ProgressStyleModel",
            "_view_count": null,
            "_view_module": "@jupyter-widgets/base",
            "_view_module_version": "1.2.0",
            "_view_name": "StyleView",
            "bar_color": null,
            "description_width": ""
          }
        },
        "c7bfc399fd2c4d2986f1a15ca9949269": {
          "model_module": "@jupyter-widgets/base",
          "model_name": "LayoutModel",
          "model_module_version": "1.2.0",
          "state": {
            "_model_module": "@jupyter-widgets/base",
            "_model_module_version": "1.2.0",
            "_model_name": "LayoutModel",
            "_view_count": null,
            "_view_module": "@jupyter-widgets/base",
            "_view_module_version": "1.2.0",
            "_view_name": "LayoutView",
            "align_content": null,
            "align_items": null,
            "align_self": null,
            "border": null,
            "bottom": null,
            "display": null,
            "flex": null,
            "flex_flow": null,
            "grid_area": null,
            "grid_auto_columns": null,
            "grid_auto_flow": null,
            "grid_auto_rows": null,
            "grid_column": null,
            "grid_gap": null,
            "grid_row": null,
            "grid_template_areas": null,
            "grid_template_columns": null,
            "grid_template_rows": null,
            "height": null,
            "justify_content": null,
            "justify_items": null,
            "left": null,
            "margin": null,
            "max_height": null,
            "max_width": null,
            "min_height": null,
            "min_width": null,
            "object_fit": null,
            "object_position": null,
            "order": null,
            "overflow": null,
            "overflow_x": null,
            "overflow_y": null,
            "padding": null,
            "right": null,
            "top": null,
            "visibility": null,
            "width": null
          }
        },
        "3e806fc5c1b145bbba134466b7ca8270": {
          "model_module": "@jupyter-widgets/controls",
          "model_name": "DescriptionStyleModel",
          "model_module_version": "1.5.0",
          "state": {
            "_model_module": "@jupyter-widgets/controls",
            "_model_module_version": "1.5.0",
            "_model_name": "DescriptionStyleModel",
            "_view_count": null,
            "_view_module": "@jupyter-widgets/base",
            "_view_module_version": "1.2.0",
            "_view_name": "StyleView",
            "description_width": ""
          }
        },
        "94672eba2ad5424c87666753e5368835": {
          "model_module": "@jupyter-widgets/controls",
          "model_name": "HBoxModel",
          "model_module_version": "1.5.0",
          "state": {
            "_dom_classes": [],
            "_model_module": "@jupyter-widgets/controls",
            "_model_module_version": "1.5.0",
            "_model_name": "HBoxModel",
            "_view_count": null,
            "_view_module": "@jupyter-widgets/controls",
            "_view_module_version": "1.5.0",
            "_view_name": "HBoxView",
            "box_style": "",
            "children": [
              "IPY_MODEL_1221f6f64ce24574a26259af866d999b",
              "IPY_MODEL_c3125489eef449bdbba87cd6596b50df",
              "IPY_MODEL_3bd3c1477f4c449083d925daa1537f58"
            ],
            "layout": "IPY_MODEL_b56bffebf755421a8481cb6cfc3c4958"
          }
        },
        "1221f6f64ce24574a26259af866d999b": {
          "model_module": "@jupyter-widgets/controls",
          "model_name": "HTMLModel",
          "model_module_version": "1.5.0",
          "state": {
            "_dom_classes": [],
            "_model_module": "@jupyter-widgets/controls",
            "_model_module_version": "1.5.0",
            "_model_name": "HTMLModel",
            "_view_count": null,
            "_view_module": "@jupyter-widgets/controls",
            "_view_module_version": "1.5.0",
            "_view_name": "HTMLView",
            "description": "",
            "description_tooltip": null,
            "layout": "IPY_MODEL_7ae66a0a09a74340b192b58cad5f20d1",
            "placeholder": "​",
            "style": "IPY_MODEL_1c16e5bca6e24134928476c6d900be82",
            "value": "Downloading: 100%"
          }
        },
        "c3125489eef449bdbba87cd6596b50df": {
          "model_module": "@jupyter-widgets/controls",
          "model_name": "FloatProgressModel",
          "model_module_version": "1.5.0",
          "state": {
            "_dom_classes": [],
            "_model_module": "@jupyter-widgets/controls",
            "_model_module_version": "1.5.0",
            "_model_name": "FloatProgressModel",
            "_view_count": null,
            "_view_module": "@jupyter-widgets/controls",
            "_view_module_version": "1.5.0",
            "_view_name": "ProgressView",
            "bar_style": "success",
            "description": "",
            "description_tooltip": null,
            "layout": "IPY_MODEL_3e527583325a46f488bda9df328c16e2",
            "max": 802781,
            "min": 0,
            "orientation": "horizontal",
            "style": "IPY_MODEL_311c29a9de4f4e7bb272204cb42dd1d1",
            "value": 802781
          }
        },
        "3bd3c1477f4c449083d925daa1537f58": {
          "model_module": "@jupyter-widgets/controls",
          "model_name": "HTMLModel",
          "model_module_version": "1.5.0",
          "state": {
            "_dom_classes": [],
            "_model_module": "@jupyter-widgets/controls",
            "_model_module_version": "1.5.0",
            "_model_name": "HTMLModel",
            "_view_count": null,
            "_view_module": "@jupyter-widgets/controls",
            "_view_module_version": "1.5.0",
            "_view_name": "HTMLView",
            "description": "",
            "description_tooltip": null,
            "layout": "IPY_MODEL_2265e69fcdc642f4b07c27ef03c69fef",
            "placeholder": "​",
            "style": "IPY_MODEL_fe9a467b59fb492292cb8d2a76bc19e0",
            "value": " 784k/784k [00:00&lt;00:00, 3.85MB/s]"
          }
        },
        "b56bffebf755421a8481cb6cfc3c4958": {
          "model_module": "@jupyter-widgets/base",
          "model_name": "LayoutModel",
          "model_module_version": "1.2.0",
          "state": {
            "_model_module": "@jupyter-widgets/base",
            "_model_module_version": "1.2.0",
            "_model_name": "LayoutModel",
            "_view_count": null,
            "_view_module": "@jupyter-widgets/base",
            "_view_module_version": "1.2.0",
            "_view_name": "LayoutView",
            "align_content": null,
            "align_items": null,
            "align_self": null,
            "border": null,
            "bottom": null,
            "display": null,
            "flex": null,
            "flex_flow": null,
            "grid_area": null,
            "grid_auto_columns": null,
            "grid_auto_flow": null,
            "grid_auto_rows": null,
            "grid_column": null,
            "grid_gap": null,
            "grid_row": null,
            "grid_template_areas": null,
            "grid_template_columns": null,
            "grid_template_rows": null,
            "height": null,
            "justify_content": null,
            "justify_items": null,
            "left": null,
            "margin": null,
            "max_height": null,
            "max_width": null,
            "min_height": null,
            "min_width": null,
            "object_fit": null,
            "object_position": null,
            "order": null,
            "overflow": null,
            "overflow_x": null,
            "overflow_y": null,
            "padding": null,
            "right": null,
            "top": null,
            "visibility": null,
            "width": null
          }
        },
        "7ae66a0a09a74340b192b58cad5f20d1": {
          "model_module": "@jupyter-widgets/base",
          "model_name": "LayoutModel",
          "model_module_version": "1.2.0",
          "state": {
            "_model_module": "@jupyter-widgets/base",
            "_model_module_version": "1.2.0",
            "_model_name": "LayoutModel",
            "_view_count": null,
            "_view_module": "@jupyter-widgets/base",
            "_view_module_version": "1.2.0",
            "_view_name": "LayoutView",
            "align_content": null,
            "align_items": null,
            "align_self": null,
            "border": null,
            "bottom": null,
            "display": null,
            "flex": null,
            "flex_flow": null,
            "grid_area": null,
            "grid_auto_columns": null,
            "grid_auto_flow": null,
            "grid_auto_rows": null,
            "grid_column": null,
            "grid_gap": null,
            "grid_row": null,
            "grid_template_areas": null,
            "grid_template_columns": null,
            "grid_template_rows": null,
            "height": null,
            "justify_content": null,
            "justify_items": null,
            "left": null,
            "margin": null,
            "max_height": null,
            "max_width": null,
            "min_height": null,
            "min_width": null,
            "object_fit": null,
            "object_position": null,
            "order": null,
            "overflow": null,
            "overflow_x": null,
            "overflow_y": null,
            "padding": null,
            "right": null,
            "top": null,
            "visibility": null,
            "width": null
          }
        },
        "1c16e5bca6e24134928476c6d900be82": {
          "model_module": "@jupyter-widgets/controls",
          "model_name": "DescriptionStyleModel",
          "model_module_version": "1.5.0",
          "state": {
            "_model_module": "@jupyter-widgets/controls",
            "_model_module_version": "1.5.0",
            "_model_name": "DescriptionStyleModel",
            "_view_count": null,
            "_view_module": "@jupyter-widgets/base",
            "_view_module_version": "1.2.0",
            "_view_name": "StyleView",
            "description_width": ""
          }
        },
        "3e527583325a46f488bda9df328c16e2": {
          "model_module": "@jupyter-widgets/base",
          "model_name": "LayoutModel",
          "model_module_version": "1.2.0",
          "state": {
            "_model_module": "@jupyter-widgets/base",
            "_model_module_version": "1.2.0",
            "_model_name": "LayoutModel",
            "_view_count": null,
            "_view_module": "@jupyter-widgets/base",
            "_view_module_version": "1.2.0",
            "_view_name": "LayoutView",
            "align_content": null,
            "align_items": null,
            "align_self": null,
            "border": null,
            "bottom": null,
            "display": null,
            "flex": null,
            "flex_flow": null,
            "grid_area": null,
            "grid_auto_columns": null,
            "grid_auto_flow": null,
            "grid_auto_rows": null,
            "grid_column": null,
            "grid_gap": null,
            "grid_row": null,
            "grid_template_areas": null,
            "grid_template_columns": null,
            "grid_template_rows": null,
            "height": null,
            "justify_content": null,
            "justify_items": null,
            "left": null,
            "margin": null,
            "max_height": null,
            "max_width": null,
            "min_height": null,
            "min_width": null,
            "object_fit": null,
            "object_position": null,
            "order": null,
            "overflow": null,
            "overflow_x": null,
            "overflow_y": null,
            "padding": null,
            "right": null,
            "top": null,
            "visibility": null,
            "width": null
          }
        },
        "311c29a9de4f4e7bb272204cb42dd1d1": {
          "model_module": "@jupyter-widgets/controls",
          "model_name": "ProgressStyleModel",
          "model_module_version": "1.5.0",
          "state": {
            "_model_module": "@jupyter-widgets/controls",
            "_model_module_version": "1.5.0",
            "_model_name": "ProgressStyleModel",
            "_view_count": null,
            "_view_module": "@jupyter-widgets/base",
            "_view_module_version": "1.2.0",
            "_view_name": "StyleView",
            "bar_color": null,
            "description_width": ""
          }
        },
        "2265e69fcdc642f4b07c27ef03c69fef": {
          "model_module": "@jupyter-widgets/base",
          "model_name": "LayoutModel",
          "model_module_version": "1.2.0",
          "state": {
            "_model_module": "@jupyter-widgets/base",
            "_model_module_version": "1.2.0",
            "_model_name": "LayoutModel",
            "_view_count": null,
            "_view_module": "@jupyter-widgets/base",
            "_view_module_version": "1.2.0",
            "_view_name": "LayoutView",
            "align_content": null,
            "align_items": null,
            "align_self": null,
            "border": null,
            "bottom": null,
            "display": null,
            "flex": null,
            "flex_flow": null,
            "grid_area": null,
            "grid_auto_columns": null,
            "grid_auto_flow": null,
            "grid_auto_rows": null,
            "grid_column": null,
            "grid_gap": null,
            "grid_row": null,
            "grid_template_areas": null,
            "grid_template_columns": null,
            "grid_template_rows": null,
            "height": null,
            "justify_content": null,
            "justify_items": null,
            "left": null,
            "margin": null,
            "max_height": null,
            "max_width": null,
            "min_height": null,
            "min_width": null,
            "object_fit": null,
            "object_position": null,
            "order": null,
            "overflow": null,
            "overflow_x": null,
            "overflow_y": null,
            "padding": null,
            "right": null,
            "top": null,
            "visibility": null,
            "width": null
          }
        },
        "fe9a467b59fb492292cb8d2a76bc19e0": {
          "model_module": "@jupyter-widgets/controls",
          "model_name": "DescriptionStyleModel",
          "model_module_version": "1.5.0",
          "state": {
            "_model_module": "@jupyter-widgets/controls",
            "_model_module_version": "1.5.0",
            "_model_name": "DescriptionStyleModel",
            "_view_count": null,
            "_view_module": "@jupyter-widgets/base",
            "_view_module_version": "1.2.0",
            "_view_name": "StyleView",
            "description_width": ""
          }
        },
        "24d126663e77469682186e0bf4d074fd": {
          "model_module": "@jupyter-widgets/controls",
          "model_name": "HBoxModel",
          "model_module_version": "1.5.0",
          "state": {
            "_dom_classes": [],
            "_model_module": "@jupyter-widgets/controls",
            "_model_module_version": "1.5.0",
            "_model_name": "HBoxModel",
            "_view_count": null,
            "_view_module": "@jupyter-widgets/controls",
            "_view_module_version": "1.5.0",
            "_view_name": "HBoxView",
            "box_style": "",
            "children": [
              "IPY_MODEL_2bfdf7412a474313a7f6f9c141ed1514",
              "IPY_MODEL_e60f092c74984d0e9787aa4e629f650c",
              "IPY_MODEL_c4d97f55370d422694fac472e7723062"
            ],
            "layout": "IPY_MODEL_3e281e1ed188478f8e82b51f797709ee"
          }
        },
        "2bfdf7412a474313a7f6f9c141ed1514": {
          "model_module": "@jupyter-widgets/controls",
          "model_name": "HTMLModel",
          "model_module_version": "1.5.0",
          "state": {
            "_dom_classes": [],
            "_model_module": "@jupyter-widgets/controls",
            "_model_module_version": "1.5.0",
            "_model_name": "HTMLModel",
            "_view_count": null,
            "_view_module": "@jupyter-widgets/controls",
            "_view_module_version": "1.5.0",
            "_view_name": "HTMLView",
            "description": "",
            "description_tooltip": null,
            "layout": "IPY_MODEL_822a2da79cf74ebc9bdec91cca9ea6a8",
            "placeholder": "​",
            "style": "IPY_MODEL_b64bd6413f6a4771b2e0c7627d6af5c6",
            "value": "Downloading: 100%"
          }
        },
        "e60f092c74984d0e9787aa4e629f650c": {
          "model_module": "@jupyter-widgets/controls",
          "model_name": "FloatProgressModel",
          "model_module_version": "1.5.0",
          "state": {
            "_dom_classes": [],
            "_model_module": "@jupyter-widgets/controls",
            "_model_module_version": "1.5.0",
            "_model_name": "FloatProgressModel",
            "_view_count": null,
            "_view_module": "@jupyter-widgets/controls",
            "_view_module_version": "1.5.0",
            "_view_name": "ProgressView",
            "bar_style": "success",
            "description": "",
            "description_tooltip": null,
            "layout": "IPY_MODEL_2d09a0a1bd7f461280f9826871a77d02",
            "max": 1080169,
            "min": 0,
            "orientation": "horizontal",
            "style": "IPY_MODEL_94f18342010d440db79debe860eb486c",
            "value": 1080169
          }
        },
        "c4d97f55370d422694fac472e7723062": {
          "model_module": "@jupyter-widgets/controls",
          "model_name": "HTMLModel",
          "model_module_version": "1.5.0",
          "state": {
            "_dom_classes": [],
            "_model_module": "@jupyter-widgets/controls",
            "_model_module_version": "1.5.0",
            "_model_name": "HTMLModel",
            "_view_count": null,
            "_view_module": "@jupyter-widgets/controls",
            "_view_module_version": "1.5.0",
            "_view_name": "HTMLView",
            "description": "",
            "description_tooltip": null,
            "layout": "IPY_MODEL_675ffaa65ab348388d1d7e016acb0aca",
            "placeholder": "​",
            "style": "IPY_MODEL_c0f0f14005104e54b1328d3eef51a05a",
            "value": " 1.03M/1.03M [00:00&lt;00:00, 970kB/s]"
          }
        },
        "3e281e1ed188478f8e82b51f797709ee": {
          "model_module": "@jupyter-widgets/base",
          "model_name": "LayoutModel",
          "model_module_version": "1.2.0",
          "state": {
            "_model_module": "@jupyter-widgets/base",
            "_model_module_version": "1.2.0",
            "_model_name": "LayoutModel",
            "_view_count": null,
            "_view_module": "@jupyter-widgets/base",
            "_view_module_version": "1.2.0",
            "_view_name": "LayoutView",
            "align_content": null,
            "align_items": null,
            "align_self": null,
            "border": null,
            "bottom": null,
            "display": null,
            "flex": null,
            "flex_flow": null,
            "grid_area": null,
            "grid_auto_columns": null,
            "grid_auto_flow": null,
            "grid_auto_rows": null,
            "grid_column": null,
            "grid_gap": null,
            "grid_row": null,
            "grid_template_areas": null,
            "grid_template_columns": null,
            "grid_template_rows": null,
            "height": null,
            "justify_content": null,
            "justify_items": null,
            "left": null,
            "margin": null,
            "max_height": null,
            "max_width": null,
            "min_height": null,
            "min_width": null,
            "object_fit": null,
            "object_position": null,
            "order": null,
            "overflow": null,
            "overflow_x": null,
            "overflow_y": null,
            "padding": null,
            "right": null,
            "top": null,
            "visibility": null,
            "width": null
          }
        },
        "822a2da79cf74ebc9bdec91cca9ea6a8": {
          "model_module": "@jupyter-widgets/base",
          "model_name": "LayoutModel",
          "model_module_version": "1.2.0",
          "state": {
            "_model_module": "@jupyter-widgets/base",
            "_model_module_version": "1.2.0",
            "_model_name": "LayoutModel",
            "_view_count": null,
            "_view_module": "@jupyter-widgets/base",
            "_view_module_version": "1.2.0",
            "_view_name": "LayoutView",
            "align_content": null,
            "align_items": null,
            "align_self": null,
            "border": null,
            "bottom": null,
            "display": null,
            "flex": null,
            "flex_flow": null,
            "grid_area": null,
            "grid_auto_columns": null,
            "grid_auto_flow": null,
            "grid_auto_rows": null,
            "grid_column": null,
            "grid_gap": null,
            "grid_row": null,
            "grid_template_areas": null,
            "grid_template_columns": null,
            "grid_template_rows": null,
            "height": null,
            "justify_content": null,
            "justify_items": null,
            "left": null,
            "margin": null,
            "max_height": null,
            "max_width": null,
            "min_height": null,
            "min_width": null,
            "object_fit": null,
            "object_position": null,
            "order": null,
            "overflow": null,
            "overflow_x": null,
            "overflow_y": null,
            "padding": null,
            "right": null,
            "top": null,
            "visibility": null,
            "width": null
          }
        },
        "b64bd6413f6a4771b2e0c7627d6af5c6": {
          "model_module": "@jupyter-widgets/controls",
          "model_name": "DescriptionStyleModel",
          "model_module_version": "1.5.0",
          "state": {
            "_model_module": "@jupyter-widgets/controls",
            "_model_module_version": "1.5.0",
            "_model_name": "DescriptionStyleModel",
            "_view_count": null,
            "_view_module": "@jupyter-widgets/base",
            "_view_module_version": "1.2.0",
            "_view_name": "StyleView",
            "description_width": ""
          }
        },
        "2d09a0a1bd7f461280f9826871a77d02": {
          "model_module": "@jupyter-widgets/base",
          "model_name": "LayoutModel",
          "model_module_version": "1.2.0",
          "state": {
            "_model_module": "@jupyter-widgets/base",
            "_model_module_version": "1.2.0",
            "_model_name": "LayoutModel",
            "_view_count": null,
            "_view_module": "@jupyter-widgets/base",
            "_view_module_version": "1.2.0",
            "_view_name": "LayoutView",
            "align_content": null,
            "align_items": null,
            "align_self": null,
            "border": null,
            "bottom": null,
            "display": null,
            "flex": null,
            "flex_flow": null,
            "grid_area": null,
            "grid_auto_columns": null,
            "grid_auto_flow": null,
            "grid_auto_rows": null,
            "grid_column": null,
            "grid_gap": null,
            "grid_row": null,
            "grid_template_areas": null,
            "grid_template_columns": null,
            "grid_template_rows": null,
            "height": null,
            "justify_content": null,
            "justify_items": null,
            "left": null,
            "margin": null,
            "max_height": null,
            "max_width": null,
            "min_height": null,
            "min_width": null,
            "object_fit": null,
            "object_position": null,
            "order": null,
            "overflow": null,
            "overflow_x": null,
            "overflow_y": null,
            "padding": null,
            "right": null,
            "top": null,
            "visibility": null,
            "width": null
          }
        },
        "94f18342010d440db79debe860eb486c": {
          "model_module": "@jupyter-widgets/controls",
          "model_name": "ProgressStyleModel",
          "model_module_version": "1.5.0",
          "state": {
            "_model_module": "@jupyter-widgets/controls",
            "_model_module_version": "1.5.0",
            "_model_name": "ProgressStyleModel",
            "_view_count": null,
            "_view_module": "@jupyter-widgets/base",
            "_view_module_version": "1.2.0",
            "_view_name": "StyleView",
            "bar_color": null,
            "description_width": ""
          }
        },
        "675ffaa65ab348388d1d7e016acb0aca": {
          "model_module": "@jupyter-widgets/base",
          "model_name": "LayoutModel",
          "model_module_version": "1.2.0",
          "state": {
            "_model_module": "@jupyter-widgets/base",
            "_model_module_version": "1.2.0",
            "_model_name": "LayoutModel",
            "_view_count": null,
            "_view_module": "@jupyter-widgets/base",
            "_view_module_version": "1.2.0",
            "_view_name": "LayoutView",
            "align_content": null,
            "align_items": null,
            "align_self": null,
            "border": null,
            "bottom": null,
            "display": null,
            "flex": null,
            "flex_flow": null,
            "grid_area": null,
            "grid_auto_columns": null,
            "grid_auto_flow": null,
            "grid_auto_rows": null,
            "grid_column": null,
            "grid_gap": null,
            "grid_row": null,
            "grid_template_areas": null,
            "grid_template_columns": null,
            "grid_template_rows": null,
            "height": null,
            "justify_content": null,
            "justify_items": null,
            "left": null,
            "margin": null,
            "max_height": null,
            "max_width": null,
            "min_height": null,
            "min_width": null,
            "object_fit": null,
            "object_position": null,
            "order": null,
            "overflow": null,
            "overflow_x": null,
            "overflow_y": null,
            "padding": null,
            "right": null,
            "top": null,
            "visibility": null,
            "width": null
          }
        },
        "c0f0f14005104e54b1328d3eef51a05a": {
          "model_module": "@jupyter-widgets/controls",
          "model_name": "DescriptionStyleModel",
          "model_module_version": "1.5.0",
          "state": {
            "_model_module": "@jupyter-widgets/controls",
            "_model_module_version": "1.5.0",
            "_model_name": "DescriptionStyleModel",
            "_view_count": null,
            "_view_module": "@jupyter-widgets/base",
            "_view_module_version": "1.2.0",
            "_view_name": "StyleView",
            "description_width": ""
          }
        },
        "381e1664790a4f5792714f3bd03a9fde": {
          "model_module": "@jupyter-widgets/controls",
          "model_name": "HBoxModel",
          "model_module_version": "1.5.0",
          "state": {
            "_dom_classes": [],
            "_model_module": "@jupyter-widgets/controls",
            "_model_module_version": "1.5.0",
            "_model_name": "HBoxModel",
            "_view_count": null,
            "_view_module": "@jupyter-widgets/controls",
            "_view_module_version": "1.5.0",
            "_view_name": "HBoxView",
            "box_style": "",
            "children": [
              "IPY_MODEL_fe28084764ad4b008d0319f891aac234",
              "IPY_MODEL_76cb2b4a35e34031a35a89c50ae61abd",
              "IPY_MODEL_b4730754b1c341a8aace68e7032298b6"
            ],
            "layout": "IPY_MODEL_170eb21cd7554ef98c2c5fcf18310aeb"
          }
        },
        "fe28084764ad4b008d0319f891aac234": {
          "model_module": "@jupyter-widgets/controls",
          "model_name": "HTMLModel",
          "model_module_version": "1.5.0",
          "state": {
            "_dom_classes": [],
            "_model_module": "@jupyter-widgets/controls",
            "_model_module_version": "1.5.0",
            "_model_name": "HTMLModel",
            "_view_count": null,
            "_view_module": "@jupyter-widgets/controls",
            "_view_module_version": "1.5.0",
            "_view_name": "HTMLView",
            "description": "",
            "description_tooltip": null,
            "layout": "IPY_MODEL_8369167d8eba47ba8edb30c37ac1bfbc",
            "placeholder": "​",
            "style": "IPY_MODEL_b7ee06a5c2d44d43a7882eae9753fd7b",
            "value": "Downloading: 100%"
          }
        },
        "76cb2b4a35e34031a35a89c50ae61abd": {
          "model_module": "@jupyter-widgets/controls",
          "model_name": "FloatProgressModel",
          "model_module_version": "1.5.0",
          "state": {
            "_dom_classes": [],
            "_model_module": "@jupyter-widgets/controls",
            "_model_module_version": "1.5.0",
            "_model_name": "FloatProgressModel",
            "_view_count": null,
            "_view_module": "@jupyter-widgets/controls",
            "_view_module_version": "1.5.0",
            "_view_name": "ProgressView",
            "bar_style": "success",
            "description": "",
            "description_tooltip": null,
            "layout": "IPY_MODEL_5cb18f6c1fcf4ac0a43eb55f7185bfad",
            "max": 2601758,
            "min": 0,
            "orientation": "horizontal",
            "style": "IPY_MODEL_bf81a10880d746f2a86166f9e2153a08",
            "value": 2601758
          }
        },
        "b4730754b1c341a8aace68e7032298b6": {
          "model_module": "@jupyter-widgets/controls",
          "model_name": "HTMLModel",
          "model_module_version": "1.5.0",
          "state": {
            "_dom_classes": [],
            "_model_module": "@jupyter-widgets/controls",
            "_model_module_version": "1.5.0",
            "_model_name": "HTMLModel",
            "_view_count": null,
            "_view_module": "@jupyter-widgets/controls",
            "_view_module_version": "1.5.0",
            "_view_name": "HTMLView",
            "description": "",
            "description_tooltip": null,
            "layout": "IPY_MODEL_8ef80aafaaac4895aba80414c7a99789",
            "placeholder": "​",
            "style": "IPY_MODEL_16c81f9047024c1abc2c365557c721fd",
            "value": " 2.48M/2.48M [00:00&lt;00:00, 11.9MB/s]"
          }
        },
        "170eb21cd7554ef98c2c5fcf18310aeb": {
          "model_module": "@jupyter-widgets/base",
          "model_name": "LayoutModel",
          "model_module_version": "1.2.0",
          "state": {
            "_model_module": "@jupyter-widgets/base",
            "_model_module_version": "1.2.0",
            "_model_name": "LayoutModel",
            "_view_count": null,
            "_view_module": "@jupyter-widgets/base",
            "_view_module_version": "1.2.0",
            "_view_name": "LayoutView",
            "align_content": null,
            "align_items": null,
            "align_self": null,
            "border": null,
            "bottom": null,
            "display": null,
            "flex": null,
            "flex_flow": null,
            "grid_area": null,
            "grid_auto_columns": null,
            "grid_auto_flow": null,
            "grid_auto_rows": null,
            "grid_column": null,
            "grid_gap": null,
            "grid_row": null,
            "grid_template_areas": null,
            "grid_template_columns": null,
            "grid_template_rows": null,
            "height": null,
            "justify_content": null,
            "justify_items": null,
            "left": null,
            "margin": null,
            "max_height": null,
            "max_width": null,
            "min_height": null,
            "min_width": null,
            "object_fit": null,
            "object_position": null,
            "order": null,
            "overflow": null,
            "overflow_x": null,
            "overflow_y": null,
            "padding": null,
            "right": null,
            "top": null,
            "visibility": null,
            "width": null
          }
        },
        "8369167d8eba47ba8edb30c37ac1bfbc": {
          "model_module": "@jupyter-widgets/base",
          "model_name": "LayoutModel",
          "model_module_version": "1.2.0",
          "state": {
            "_model_module": "@jupyter-widgets/base",
            "_model_module_version": "1.2.0",
            "_model_name": "LayoutModel",
            "_view_count": null,
            "_view_module": "@jupyter-widgets/base",
            "_view_module_version": "1.2.0",
            "_view_name": "LayoutView",
            "align_content": null,
            "align_items": null,
            "align_self": null,
            "border": null,
            "bottom": null,
            "display": null,
            "flex": null,
            "flex_flow": null,
            "grid_area": null,
            "grid_auto_columns": null,
            "grid_auto_flow": null,
            "grid_auto_rows": null,
            "grid_column": null,
            "grid_gap": null,
            "grid_row": null,
            "grid_template_areas": null,
            "grid_template_columns": null,
            "grid_template_rows": null,
            "height": null,
            "justify_content": null,
            "justify_items": null,
            "left": null,
            "margin": null,
            "max_height": null,
            "max_width": null,
            "min_height": null,
            "min_width": null,
            "object_fit": null,
            "object_position": null,
            "order": null,
            "overflow": null,
            "overflow_x": null,
            "overflow_y": null,
            "padding": null,
            "right": null,
            "top": null,
            "visibility": null,
            "width": null
          }
        },
        "b7ee06a5c2d44d43a7882eae9753fd7b": {
          "model_module": "@jupyter-widgets/controls",
          "model_name": "DescriptionStyleModel",
          "model_module_version": "1.5.0",
          "state": {
            "_model_module": "@jupyter-widgets/controls",
            "_model_module_version": "1.5.0",
            "_model_name": "DescriptionStyleModel",
            "_view_count": null,
            "_view_module": "@jupyter-widgets/base",
            "_view_module_version": "1.2.0",
            "_view_name": "StyleView",
            "description_width": ""
          }
        },
        "5cb18f6c1fcf4ac0a43eb55f7185bfad": {
          "model_module": "@jupyter-widgets/base",
          "model_name": "LayoutModel",
          "model_module_version": "1.2.0",
          "state": {
            "_model_module": "@jupyter-widgets/base",
            "_model_module_version": "1.2.0",
            "_model_name": "LayoutModel",
            "_view_count": null,
            "_view_module": "@jupyter-widgets/base",
            "_view_module_version": "1.2.0",
            "_view_name": "LayoutView",
            "align_content": null,
            "align_items": null,
            "align_self": null,
            "border": null,
            "bottom": null,
            "display": null,
            "flex": null,
            "flex_flow": null,
            "grid_area": null,
            "grid_auto_columns": null,
            "grid_auto_flow": null,
            "grid_auto_rows": null,
            "grid_column": null,
            "grid_gap": null,
            "grid_row": null,
            "grid_template_areas": null,
            "grid_template_columns": null,
            "grid_template_rows": null,
            "height": null,
            "justify_content": null,
            "justify_items": null,
            "left": null,
            "margin": null,
            "max_height": null,
            "max_width": null,
            "min_height": null,
            "min_width": null,
            "object_fit": null,
            "object_position": null,
            "order": null,
            "overflow": null,
            "overflow_x": null,
            "overflow_y": null,
            "padding": null,
            "right": null,
            "top": null,
            "visibility": null,
            "width": null
          }
        },
        "bf81a10880d746f2a86166f9e2153a08": {
          "model_module": "@jupyter-widgets/controls",
          "model_name": "ProgressStyleModel",
          "model_module_version": "1.5.0",
          "state": {
            "_model_module": "@jupyter-widgets/controls",
            "_model_module_version": "1.5.0",
            "_model_name": "ProgressStyleModel",
            "_view_count": null,
            "_view_module": "@jupyter-widgets/base",
            "_view_module_version": "1.2.0",
            "_view_name": "StyleView",
            "bar_color": null,
            "description_width": ""
          }
        },
        "8ef80aafaaac4895aba80414c7a99789": {
          "model_module": "@jupyter-widgets/base",
          "model_name": "LayoutModel",
          "model_module_version": "1.2.0",
          "state": {
            "_model_module": "@jupyter-widgets/base",
            "_model_module_version": "1.2.0",
            "_model_name": "LayoutModel",
            "_view_count": null,
            "_view_module": "@jupyter-widgets/base",
            "_view_module_version": "1.2.0",
            "_view_name": "LayoutView",
            "align_content": null,
            "align_items": null,
            "align_self": null,
            "border": null,
            "bottom": null,
            "display": null,
            "flex": null,
            "flex_flow": null,
            "grid_area": null,
            "grid_auto_columns": null,
            "grid_auto_flow": null,
            "grid_auto_rows": null,
            "grid_column": null,
            "grid_gap": null,
            "grid_row": null,
            "grid_template_areas": null,
            "grid_template_columns": null,
            "grid_template_rows": null,
            "height": null,
            "justify_content": null,
            "justify_items": null,
            "left": null,
            "margin": null,
            "max_height": null,
            "max_width": null,
            "min_height": null,
            "min_width": null,
            "object_fit": null,
            "object_position": null,
            "order": null,
            "overflow": null,
            "overflow_x": null,
            "overflow_y": null,
            "padding": null,
            "right": null,
            "top": null,
            "visibility": null,
            "width": null
          }
        },
        "16c81f9047024c1abc2c365557c721fd": {
          "model_module": "@jupyter-widgets/controls",
          "model_name": "DescriptionStyleModel",
          "model_module_version": "1.5.0",
          "state": {
            "_model_module": "@jupyter-widgets/controls",
            "_model_module_version": "1.5.0",
            "_model_name": "DescriptionStyleModel",
            "_view_count": null,
            "_view_module": "@jupyter-widgets/base",
            "_view_module_version": "1.2.0",
            "_view_name": "StyleView",
            "description_width": ""
          }
        }
      }
    }
  },
  "cells": [
    {
      "cell_type": "markdown",
      "source": [
        "### Machine Translation\n",
        "Neural machine translation emerged in recent years, outperforming all previous approaches. More specifically, neural networks based on attention called transformers did an outstanding job on this task."
      ],
      "metadata": {
        "id": "hF1x02ctsYmw"
      }
    },
    {
      "cell_type": "markdown",
      "source": [
        "In this notebook I will  perform machine translation without any training. In other words, I'll be using pre-trained models from Huggingface transformer models. [HuggingFace Transformer model](https://huggingface.co/models?pipeline_tag=translation&sort=downloads)"
      ],
      "metadata": {
        "id": "6xsrmghntRZ5"
      }
    },
    {
      "cell_type": "markdown",
      "source": [
        "## I will be using the Colab GPU"
      ],
      "metadata": {
        "id": "5MAgsvKxIE9Q"
      }
    },
    {
      "cell_type": "code",
      "source": [
        "import tensorflow as tf\n",
        "\n",
        "# Get the GPU device name.\n",
        "device_name = tf.test.gpu_device_name()\n",
        "\n",
        "# The device name should look like the following:\n",
        "if device_name == '/device:GPU:0':\n",
        "    print('Found GPU at: {}'.format(device_name))\n",
        "else:\n",
        "    raise SystemError('GPU device not found')"
      ],
      "metadata": {
        "colab": {
          "base_uri": "https://localhost:8080/"
        },
        "id": "1NmIF6Ols4YF",
        "outputId": "0c9eea52-e225-41c5-f2d4-76ebafb4faf4"
      },
      "execution_count": 1,
      "outputs": [
        {
          "output_type": "stream",
          "name": "stdout",
          "text": [
            "Found GPU at: /device:GPU:0\n"
          ]
        }
      ]
    },
    {
      "cell_type": "code",
      "source": [
        "# installing Transfromer\n",
        "!pip install transformers"
      ],
      "metadata": {
        "colab": {
          "base_uri": "https://localhost:8080/"
        },
        "id": "x2jptosetGpn",
        "outputId": "ad5811dd-f67c-4a4c-9fa2-8e8c31e01f68"
      },
      "execution_count": 3,
      "outputs": [
        {
          "output_type": "stream",
          "name": "stdout",
          "text": [
            "Collecting transformers\n",
            "  Downloading transformers-4.17.0-py3-none-any.whl (3.8 MB)\n",
            "\u001b[K     |████████████████████████████████| 3.8 MB 5.4 MB/s \n",
            "\u001b[?25hCollecting pyyaml>=5.1\n",
            "  Downloading PyYAML-6.0-cp37-cp37m-manylinux_2_5_x86_64.manylinux1_x86_64.manylinux_2_12_x86_64.manylinux2010_x86_64.whl (596 kB)\n",
            "\u001b[K     |████████████████████████████████| 596 kB 46.1 MB/s \n",
            "\u001b[?25hRequirement already satisfied: requests in /usr/local/lib/python3.7/dist-packages (from transformers) (2.23.0)\n",
            "Requirement already satisfied: regex!=2019.12.17 in /usr/local/lib/python3.7/dist-packages (from transformers) (2019.12.20)\n",
            "Requirement already satisfied: importlib-metadata in /usr/local/lib/python3.7/dist-packages (from transformers) (4.11.3)\n",
            "Requirement already satisfied: packaging>=20.0 in /usr/local/lib/python3.7/dist-packages (from transformers) (21.3)\n",
            "Requirement already satisfied: filelock in /usr/local/lib/python3.7/dist-packages (from transformers) (3.6.0)\n",
            "Requirement already satisfied: numpy>=1.17 in /usr/local/lib/python3.7/dist-packages (from transformers) (1.21.5)\n",
            "Collecting tokenizers!=0.11.3,>=0.11.1\n",
            "  Downloading tokenizers-0.11.6-cp37-cp37m-manylinux_2_12_x86_64.manylinux2010_x86_64.whl (6.5 MB)\n",
            "\u001b[K     |████████████████████████████████| 6.5 MB 34.7 MB/s \n",
            "\u001b[?25hCollecting huggingface-hub<1.0,>=0.1.0\n",
            "  Downloading huggingface_hub-0.4.0-py3-none-any.whl (67 kB)\n",
            "\u001b[K     |████████████████████████████████| 67 kB 4.8 MB/s \n",
            "\u001b[?25hCollecting sacremoses\n",
            "  Downloading sacremoses-0.0.49-py3-none-any.whl (895 kB)\n",
            "\u001b[K     |████████████████████████████████| 895 kB 43.4 MB/s \n",
            "\u001b[?25hRequirement already satisfied: tqdm>=4.27 in /usr/local/lib/python3.7/dist-packages (from transformers) (4.63.0)\n",
            "Requirement already satisfied: typing-extensions>=3.7.4.3 in /usr/local/lib/python3.7/dist-packages (from huggingface-hub<1.0,>=0.1.0->transformers) (3.10.0.2)\n",
            "Requirement already satisfied: pyparsing!=3.0.5,>=2.0.2 in /usr/local/lib/python3.7/dist-packages (from packaging>=20.0->transformers) (3.0.7)\n",
            "Requirement already satisfied: zipp>=0.5 in /usr/local/lib/python3.7/dist-packages (from importlib-metadata->transformers) (3.7.0)\n",
            "Requirement already satisfied: idna<3,>=2.5 in /usr/local/lib/python3.7/dist-packages (from requests->transformers) (2.10)\n",
            "Requirement already satisfied: certifi>=2017.4.17 in /usr/local/lib/python3.7/dist-packages (from requests->transformers) (2021.10.8)\n",
            "Requirement already satisfied: chardet<4,>=3.0.2 in /usr/local/lib/python3.7/dist-packages (from requests->transformers) (3.0.4)\n",
            "Requirement already satisfied: urllib3!=1.25.0,!=1.25.1,<1.26,>=1.21.1 in /usr/local/lib/python3.7/dist-packages (from requests->transformers) (1.24.3)\n",
            "Requirement already satisfied: six in /usr/local/lib/python3.7/dist-packages (from sacremoses->transformers) (1.15.0)\n",
            "Requirement already satisfied: click in /usr/local/lib/python3.7/dist-packages (from sacremoses->transformers) (7.1.2)\n",
            "Requirement already satisfied: joblib in /usr/local/lib/python3.7/dist-packages (from sacremoses->transformers) (1.1.0)\n",
            "Installing collected packages: pyyaml, tokenizers, sacremoses, huggingface-hub, transformers\n",
            "  Attempting uninstall: pyyaml\n",
            "    Found existing installation: PyYAML 3.13\n",
            "    Uninstalling PyYAML-3.13:\n",
            "      Successfully uninstalled PyYAML-3.13\n",
            "Successfully installed huggingface-hub-0.4.0 pyyaml-6.0 sacremoses-0.0.49 tokenizers-0.11.6 transformers-4.17.0\n"
          ]
        }
      ]
    },
    {
      "cell_type": "code",
      "source": [
        "# import transformer library\n",
        "import transformers\n",
        "\n",
        "print(transformers.__version__)"
      ],
      "metadata": {
        "colab": {
          "base_uri": "https://localhost:8080/"
        },
        "id": "8hO7ZetBskj4",
        "outputId": "3ad89bf9-5cc3-41e4-b967-0673877a0a3f"
      },
      "execution_count": 4,
      "outputs": [
        {
          "output_type": "stream",
          "name": "stdout",
          "text": [
            "4.17.0\n"
          ]
        }
      ]
    },
    {
      "cell_type": "code",
      "source": [
        ""
      ],
      "metadata": {
        "id": "L_a-NbB3s_c5"
      },
      "execution_count": null,
      "outputs": []
    },
    {
      "cell_type": "markdown",
      "source": [
        "The Helsinki-NLP models we will use are primarily trained on the OPUS dataset, a collection of translated texts from the web; it is free online data.\n",
        "\n",
        "\n",
        "We will see how to easily load the dataset for this task using 🤗 Datasets and how to fine-tune a model on it using the `Trainer` API."
      ],
      "metadata": {
        "id": "bk2qzq1mtaD1"
      }
    },
    {
      "cell_type": "code",
      "source": [
        "from transformers import *\n"
      ],
      "metadata": {
        "id": "doTkTE5O7Sp9"
      },
      "execution_count": 48,
      "outputs": []
    },
    {
      "cell_type": "code",
      "source": [
        "# the english to russian model from hugging face library\n",
        "model_checkpoint = \"Helsinki-NLP/opus-mt-en-ru\""
      ],
      "metadata": {
        "id": "_NsS6LJgtbev"
      },
      "execution_count": 121,
      "outputs": []
    },
    {
      "cell_type": "markdown",
      "source": [
        "# Using Pipeline API\n",
        "Let's first get started with the library's pipeline API; we'll be using the models trained by `Helsinki-NLP`. You can check their page to see the available models they have:"
      ],
      "metadata": {
        "id": "wr4f0GKW7fj-"
      }
    },
    {
      "cell_type": "code",
      "source": [
        "# source & destination languages\n",
        "src = \"en\"\n",
        "dst = \"ru\"\n",
        "\n",
        "task_name = f\"translation_{src}_to_{dst}\"\n",
        "model_name = f\"Helsinki-NLP/opus-mt-{src}-{dst}\"\n",
        "\n",
        "translator  = pipeline(task_name, model=model_name, tokenizer=model_name)"
      ],
      "metadata": {
        "colab": {
          "base_uri": "https://localhost:8080/",
          "height": 1000,
          "referenced_widgets": [
            "5645f39f52b74b6a8385588d3817fbc1",
            "2ed96ae1bcad497f82ee0fa8bcdc234b",
            "95727100ba0b498c9c5d7fb3f62e5e1b",
            "1c0e39319c854ebd871eb0ef81b77d7f",
            "67e96b02e8ec4ac29995173ad16c21d4",
            "77936ff9b5a24f75a48fe85f243f4618",
            "f71577be4c9849259c5ee16eb0458cbe",
            "8fbc723cd28c4bd88f6b14cf20d7214e",
            "97fe9fcf3fd74dc9b08699c242b3f586",
            "c7bfc399fd2c4d2986f1a15ca9949269",
            "3e806fc5c1b145bbba134466b7ca8270",
            "94672eba2ad5424c87666753e5368835",
            "1221f6f64ce24574a26259af866d999b",
            "c3125489eef449bdbba87cd6596b50df",
            "3bd3c1477f4c449083d925daa1537f58",
            "b56bffebf755421a8481cb6cfc3c4958",
            "7ae66a0a09a74340b192b58cad5f20d1",
            "1c16e5bca6e24134928476c6d900be82",
            "3e527583325a46f488bda9df328c16e2",
            "311c29a9de4f4e7bb272204cb42dd1d1",
            "2265e69fcdc642f4b07c27ef03c69fef",
            "fe9a467b59fb492292cb8d2a76bc19e0",
            "24d126663e77469682186e0bf4d074fd",
            "2bfdf7412a474313a7f6f9c141ed1514",
            "e60f092c74984d0e9787aa4e629f650c",
            "c4d97f55370d422694fac472e7723062",
            "3e281e1ed188478f8e82b51f797709ee",
            "822a2da79cf74ebc9bdec91cca9ea6a8",
            "b64bd6413f6a4771b2e0c7627d6af5c6",
            "2d09a0a1bd7f461280f9826871a77d02",
            "94f18342010d440db79debe860eb486c",
            "675ffaa65ab348388d1d7e016acb0aca",
            "c0f0f14005104e54b1328d3eef51a05a",
            "381e1664790a4f5792714f3bd03a9fde",
            "fe28084764ad4b008d0319f891aac234",
            "76cb2b4a35e34031a35a89c50ae61abd",
            "b4730754b1c341a8aace68e7032298b6",
            "170eb21cd7554ef98c2c5fcf18310aeb",
            "8369167d8eba47ba8edb30c37ac1bfbc",
            "b7ee06a5c2d44d43a7882eae9753fd7b",
            "5cb18f6c1fcf4ac0a43eb55f7185bfad",
            "bf81a10880d746f2a86166f9e2153a08",
            "8ef80aafaaac4895aba80414c7a99789",
            "16c81f9047024c1abc2c365557c721fd"
          ]
        },
        "id": "Z9jObRgC06ct",
        "outputId": "b0fb8e99-d482-41c5-bc39-d1d198bc9c10"
      },
      "execution_count": 49,
      "outputs": [
        {
          "output_type": "stream",
          "name": "stderr",
          "text": [
            "loading configuration file https://huggingface.co/Helsinki-NLP/opus-mt-en-ru/resolve/main/config.json from cache at /root/.cache/huggingface/transformers/77cec7e2e8c651e0de5a486162b120017319e844a1e8dc2edb308b1063822f1e.d485279d1a134dbaa57f731e1d68a2103c35113a1e8e6f7d9186807db74b54a9\n",
            "Model config MarianConfig {\n",
            "  \"_name_or_path\": \"Helsinki-NLP/opus-mt-en-ru\",\n",
            "  \"_num_labels\": 3,\n",
            "  \"activation_dropout\": 0.0,\n",
            "  \"activation_function\": \"swish\",\n",
            "  \"add_bias_logits\": false,\n",
            "  \"add_final_layer_norm\": false,\n",
            "  \"architectures\": [\n",
            "    \"MarianMTModel\"\n",
            "  ],\n",
            "  \"attention_dropout\": 0.0,\n",
            "  \"bad_words_ids\": [\n",
            "    [\n",
            "      62517\n",
            "    ]\n",
            "  ],\n",
            "  \"bos_token_id\": 0,\n",
            "  \"classif_dropout\": 0.0,\n",
            "  \"classifier_dropout\": 0.0,\n",
            "  \"d_model\": 512,\n",
            "  \"decoder_attention_heads\": 8,\n",
            "  \"decoder_ffn_dim\": 2048,\n",
            "  \"decoder_layerdrop\": 0.0,\n",
            "  \"decoder_layers\": 6,\n",
            "  \"decoder_start_token_id\": 62517,\n",
            "  \"dropout\": 0.1,\n",
            "  \"encoder_attention_heads\": 8,\n",
            "  \"encoder_ffn_dim\": 2048,\n",
            "  \"encoder_layerdrop\": 0.0,\n",
            "  \"encoder_layers\": 6,\n",
            "  \"eos_token_id\": 0,\n",
            "  \"forced_eos_token_id\": 0,\n",
            "  \"id2label\": {\n",
            "    \"0\": \"LABEL_0\",\n",
            "    \"1\": \"LABEL_1\",\n",
            "    \"2\": \"LABEL_2\"\n",
            "  },\n",
            "  \"init_std\": 0.02,\n",
            "  \"is_encoder_decoder\": true,\n",
            "  \"label2id\": {\n",
            "    \"LABEL_0\": 0,\n",
            "    \"LABEL_1\": 1,\n",
            "    \"LABEL_2\": 2\n",
            "  },\n",
            "  \"max_length\": 512,\n",
            "  \"max_position_embeddings\": 512,\n",
            "  \"model_type\": \"marian\",\n",
            "  \"normalize_before\": false,\n",
            "  \"normalize_embedding\": false,\n",
            "  \"num_beams\": 4,\n",
            "  \"num_hidden_layers\": 6,\n",
            "  \"pad_token_id\": 62517,\n",
            "  \"scale_embedding\": true,\n",
            "  \"static_position_embeddings\": true,\n",
            "  \"transformers_version\": \"4.17.0\",\n",
            "  \"use_cache\": true,\n",
            "  \"vocab_size\": 62518\n",
            "}\n",
            "\n",
            "loading configuration file https://huggingface.co/Helsinki-NLP/opus-mt-en-ru/resolve/main/config.json from cache at /root/.cache/huggingface/transformers/77cec7e2e8c651e0de5a486162b120017319e844a1e8dc2edb308b1063822f1e.d485279d1a134dbaa57f731e1d68a2103c35113a1e8e6f7d9186807db74b54a9\n",
            "Model config MarianConfig {\n",
            "  \"_name_or_path\": \"Helsinki-NLP/opus-mt-en-ru\",\n",
            "  \"_num_labels\": 3,\n",
            "  \"activation_dropout\": 0.0,\n",
            "  \"activation_function\": \"swish\",\n",
            "  \"add_bias_logits\": false,\n",
            "  \"add_final_layer_norm\": false,\n",
            "  \"architectures\": [\n",
            "    \"MarianMTModel\"\n",
            "  ],\n",
            "  \"attention_dropout\": 0.0,\n",
            "  \"bad_words_ids\": [\n",
            "    [\n",
            "      62517\n",
            "    ]\n",
            "  ],\n",
            "  \"bos_token_id\": 0,\n",
            "  \"classif_dropout\": 0.0,\n",
            "  \"classifier_dropout\": 0.0,\n",
            "  \"d_model\": 512,\n",
            "  \"decoder_attention_heads\": 8,\n",
            "  \"decoder_ffn_dim\": 2048,\n",
            "  \"decoder_layerdrop\": 0.0,\n",
            "  \"decoder_layers\": 6,\n",
            "  \"decoder_start_token_id\": 62517,\n",
            "  \"dropout\": 0.1,\n",
            "  \"encoder_attention_heads\": 8,\n",
            "  \"encoder_ffn_dim\": 2048,\n",
            "  \"encoder_layerdrop\": 0.0,\n",
            "  \"encoder_layers\": 6,\n",
            "  \"eos_token_id\": 0,\n",
            "  \"forced_eos_token_id\": 0,\n",
            "  \"id2label\": {\n",
            "    \"0\": \"LABEL_0\",\n",
            "    \"1\": \"LABEL_1\",\n",
            "    \"2\": \"LABEL_2\"\n",
            "  },\n",
            "  \"init_std\": 0.02,\n",
            "  \"is_encoder_decoder\": true,\n",
            "  \"label2id\": {\n",
            "    \"LABEL_0\": 0,\n",
            "    \"LABEL_1\": 1,\n",
            "    \"LABEL_2\": 2\n",
            "  },\n",
            "  \"max_length\": 512,\n",
            "  \"max_position_embeddings\": 512,\n",
            "  \"model_type\": \"marian\",\n",
            "  \"normalize_before\": false,\n",
            "  \"normalize_embedding\": false,\n",
            "  \"num_beams\": 4,\n",
            "  \"num_hidden_layers\": 6,\n",
            "  \"pad_token_id\": 62517,\n",
            "  \"scale_embedding\": true,\n",
            "  \"static_position_embeddings\": true,\n",
            "  \"transformers_version\": \"4.17.0\",\n",
            "  \"use_cache\": true,\n",
            "  \"vocab_size\": 62518\n",
            "}\n",
            "\n",
            "loading weights file https://huggingface.co/Helsinki-NLP/opus-mt-en-ru/resolve/main/pytorch_model.bin from cache at /root/.cache/huggingface/transformers/b6092d0463f245a877c22f46638995515bede53c33ab8b642f210f7a05f72f75.b431390a6979e48822a3d73f1162f7e0d128d368cceee90c41d47f9e47a87e70\n",
            "All model checkpoint weights were used when initializing MarianMTModel.\n",
            "\n",
            "All the weights of MarianMTModel were initialized from the model checkpoint at Helsinki-NLP/opus-mt-en-ru.\n",
            "If your task is similar to the task the model of the checkpoint was trained on, you can already use MarianMTModel for predictions without further training.\n",
            "https://huggingface.co/Helsinki-NLP/opus-mt-en-ru/resolve/main/tokenizer_config.json not found in cache or force_download set to True, downloading to /root/.cache/huggingface/transformers/tmpemb_lp00\n"
          ]
        },
        {
          "output_type": "display_data",
          "data": {
            "text/plain": [
              "Downloading:   0%|          | 0.00/42.0 [00:00<?, ?B/s]"
            ],
            "application/vnd.jupyter.widget-view+json": {
              "version_major": 2,
              "version_minor": 0,
              "model_id": "5645f39f52b74b6a8385588d3817fbc1"
            }
          },
          "metadata": {}
        },
        {
          "output_type": "stream",
          "name": "stderr",
          "text": [
            "storing https://huggingface.co/Helsinki-NLP/opus-mt-en-ru/resolve/main/tokenizer_config.json in cache at /root/.cache/huggingface/transformers/8789baef22e163407b9859cfc335b5aec2bc5e842d6e87b53787350d908b8984.4ea24009acf2f7010cdca879d1f08babd6fdf9dc414ed3335f5d105a4f945193\n",
            "creating metadata file for /root/.cache/huggingface/transformers/8789baef22e163407b9859cfc335b5aec2bc5e842d6e87b53787350d908b8984.4ea24009acf2f7010cdca879d1f08babd6fdf9dc414ed3335f5d105a4f945193\n",
            "loading configuration file https://huggingface.co/Helsinki-NLP/opus-mt-en-ru/resolve/main/config.json from cache at /root/.cache/huggingface/transformers/77cec7e2e8c651e0de5a486162b120017319e844a1e8dc2edb308b1063822f1e.d485279d1a134dbaa57f731e1d68a2103c35113a1e8e6f7d9186807db74b54a9\n",
            "Model config MarianConfig {\n",
            "  \"_name_or_path\": \"Helsinki-NLP/opus-mt-en-ru\",\n",
            "  \"_num_labels\": 3,\n",
            "  \"activation_dropout\": 0.0,\n",
            "  \"activation_function\": \"swish\",\n",
            "  \"add_bias_logits\": false,\n",
            "  \"add_final_layer_norm\": false,\n",
            "  \"architectures\": [\n",
            "    \"MarianMTModel\"\n",
            "  ],\n",
            "  \"attention_dropout\": 0.0,\n",
            "  \"bad_words_ids\": [\n",
            "    [\n",
            "      62517\n",
            "    ]\n",
            "  ],\n",
            "  \"bos_token_id\": 0,\n",
            "  \"classif_dropout\": 0.0,\n",
            "  \"classifier_dropout\": 0.0,\n",
            "  \"d_model\": 512,\n",
            "  \"decoder_attention_heads\": 8,\n",
            "  \"decoder_ffn_dim\": 2048,\n",
            "  \"decoder_layerdrop\": 0.0,\n",
            "  \"decoder_layers\": 6,\n",
            "  \"decoder_start_token_id\": 62517,\n",
            "  \"dropout\": 0.1,\n",
            "  \"encoder_attention_heads\": 8,\n",
            "  \"encoder_ffn_dim\": 2048,\n",
            "  \"encoder_layerdrop\": 0.0,\n",
            "  \"encoder_layers\": 6,\n",
            "  \"eos_token_id\": 0,\n",
            "  \"forced_eos_token_id\": 0,\n",
            "  \"id2label\": {\n",
            "    \"0\": \"LABEL_0\",\n",
            "    \"1\": \"LABEL_1\",\n",
            "    \"2\": \"LABEL_2\"\n",
            "  },\n",
            "  \"init_std\": 0.02,\n",
            "  \"is_encoder_decoder\": true,\n",
            "  \"label2id\": {\n",
            "    \"LABEL_0\": 0,\n",
            "    \"LABEL_1\": 1,\n",
            "    \"LABEL_2\": 2\n",
            "  },\n",
            "  \"max_length\": 512,\n",
            "  \"max_position_embeddings\": 512,\n",
            "  \"model_type\": \"marian\",\n",
            "  \"normalize_before\": false,\n",
            "  \"normalize_embedding\": false,\n",
            "  \"num_beams\": 4,\n",
            "  \"num_hidden_layers\": 6,\n",
            "  \"pad_token_id\": 62517,\n",
            "  \"scale_embedding\": true,\n",
            "  \"static_position_embeddings\": true,\n",
            "  \"transformers_version\": \"4.17.0\",\n",
            "  \"use_cache\": true,\n",
            "  \"vocab_size\": 62518\n",
            "}\n",
            "\n",
            "https://huggingface.co/Helsinki-NLP/opus-mt-en-ru/resolve/main/source.spm not found in cache or force_download set to True, downloading to /root/.cache/huggingface/transformers/tmpdpw_nr3g\n"
          ]
        },
        {
          "output_type": "display_data",
          "data": {
            "text/plain": [
              "Downloading:   0%|          | 0.00/784k [00:00<?, ?B/s]"
            ],
            "application/vnd.jupyter.widget-view+json": {
              "version_major": 2,
              "version_minor": 0,
              "model_id": "94672eba2ad5424c87666753e5368835"
            }
          },
          "metadata": {}
        },
        {
          "output_type": "stream",
          "name": "stderr",
          "text": [
            "storing https://huggingface.co/Helsinki-NLP/opus-mt-en-ru/resolve/main/source.spm in cache at /root/.cache/huggingface/transformers/1abc21cfb4c61b7d591ff17a3deda0fcd412708330d7498955d3bd744f251245.08cf8cb11c4bccda9984da12e0f0ff6d4ae4f731f8e8150ada7f80182f61cf29\n",
            "creating metadata file for /root/.cache/huggingface/transformers/1abc21cfb4c61b7d591ff17a3deda0fcd412708330d7498955d3bd744f251245.08cf8cb11c4bccda9984da12e0f0ff6d4ae4f731f8e8150ada7f80182f61cf29\n",
            "https://huggingface.co/Helsinki-NLP/opus-mt-en-ru/resolve/main/target.spm not found in cache or force_download set to True, downloading to /root/.cache/huggingface/transformers/tmpco7w4edh\n"
          ]
        },
        {
          "output_type": "display_data",
          "data": {
            "text/plain": [
              "Downloading:   0%|          | 0.00/1.03M [00:00<?, ?B/s]"
            ],
            "application/vnd.jupyter.widget-view+json": {
              "version_major": 2,
              "version_minor": 0,
              "model_id": "24d126663e77469682186e0bf4d074fd"
            }
          },
          "metadata": {}
        },
        {
          "output_type": "stream",
          "name": "stderr",
          "text": [
            "storing https://huggingface.co/Helsinki-NLP/opus-mt-en-ru/resolve/main/target.spm in cache at /root/.cache/huggingface/transformers/85a3835aa6f93e766c2d97b6e4e3c4fb236c233d5c2fdf5a229b972bcb6cbbf1.56209d2ca3707ce9263f4035ac7a3a3903fdda4180df9f4174972e23e045b436\n",
            "creating metadata file for /root/.cache/huggingface/transformers/85a3835aa6f93e766c2d97b6e4e3c4fb236c233d5c2fdf5a229b972bcb6cbbf1.56209d2ca3707ce9263f4035ac7a3a3903fdda4180df9f4174972e23e045b436\n",
            "https://huggingface.co/Helsinki-NLP/opus-mt-en-ru/resolve/main/vocab.json not found in cache or force_download set to True, downloading to /root/.cache/huggingface/transformers/tmpxdcsckbg\n"
          ]
        },
        {
          "output_type": "display_data",
          "data": {
            "text/plain": [
              "Downloading:   0%|          | 0.00/2.48M [00:00<?, ?B/s]"
            ],
            "application/vnd.jupyter.widget-view+json": {
              "version_major": 2,
              "version_minor": 0,
              "model_id": "381e1664790a4f5792714f3bd03a9fde"
            }
          },
          "metadata": {}
        },
        {
          "output_type": "stream",
          "name": "stderr",
          "text": [
            "storing https://huggingface.co/Helsinki-NLP/opus-mt-en-ru/resolve/main/vocab.json in cache at /root/.cache/huggingface/transformers/b9fe1f87eaef128f448778194957f14a9f5476e22b75995daab8490dbd3b69ad.1d41830b1d9ac03606e0af0d302866e05458276f26bcba52f913026be8f291f8\n",
            "creating metadata file for /root/.cache/huggingface/transformers/b9fe1f87eaef128f448778194957f14a9f5476e22b75995daab8490dbd3b69ad.1d41830b1d9ac03606e0af0d302866e05458276f26bcba52f913026be8f291f8\n",
            "loading file https://huggingface.co/Helsinki-NLP/opus-mt-en-ru/resolve/main/source.spm from cache at /root/.cache/huggingface/transformers/1abc21cfb4c61b7d591ff17a3deda0fcd412708330d7498955d3bd744f251245.08cf8cb11c4bccda9984da12e0f0ff6d4ae4f731f8e8150ada7f80182f61cf29\n",
            "loading file https://huggingface.co/Helsinki-NLP/opus-mt-en-ru/resolve/main/target.spm from cache at /root/.cache/huggingface/transformers/85a3835aa6f93e766c2d97b6e4e3c4fb236c233d5c2fdf5a229b972bcb6cbbf1.56209d2ca3707ce9263f4035ac7a3a3903fdda4180df9f4174972e23e045b436\n",
            "loading file https://huggingface.co/Helsinki-NLP/opus-mt-en-ru/resolve/main/vocab.json from cache at /root/.cache/huggingface/transformers/b9fe1f87eaef128f448778194957f14a9f5476e22b75995daab8490dbd3b69ad.1d41830b1d9ac03606e0af0d302866e05458276f26bcba52f913026be8f291f8\n",
            "loading file https://huggingface.co/Helsinki-NLP/opus-mt-en-ru/resolve/main/tokenizer_config.json from cache at /root/.cache/huggingface/transformers/8789baef22e163407b9859cfc335b5aec2bc5e842d6e87b53787350d908b8984.4ea24009acf2f7010cdca879d1f08babd6fdf9dc414ed3335f5d105a4f945193\n",
            "loading file https://huggingface.co/Helsinki-NLP/opus-mt-en-ru/resolve/main/added_tokens.json from cache at None\n",
            "loading file https://huggingface.co/Helsinki-NLP/opus-mt-en-ru/resolve/main/special_tokens_map.json from cache at None\n",
            "loading configuration file https://huggingface.co/Helsinki-NLP/opus-mt-en-ru/resolve/main/config.json from cache at /root/.cache/huggingface/transformers/77cec7e2e8c651e0de5a486162b120017319e844a1e8dc2edb308b1063822f1e.d485279d1a134dbaa57f731e1d68a2103c35113a1e8e6f7d9186807db74b54a9\n",
            "Model config MarianConfig {\n",
            "  \"_name_or_path\": \"Helsinki-NLP/opus-mt-en-ru\",\n",
            "  \"_num_labels\": 3,\n",
            "  \"activation_dropout\": 0.0,\n",
            "  \"activation_function\": \"swish\",\n",
            "  \"add_bias_logits\": false,\n",
            "  \"add_final_layer_norm\": false,\n",
            "  \"architectures\": [\n",
            "    \"MarianMTModel\"\n",
            "  ],\n",
            "  \"attention_dropout\": 0.0,\n",
            "  \"bad_words_ids\": [\n",
            "    [\n",
            "      62517\n",
            "    ]\n",
            "  ],\n",
            "  \"bos_token_id\": 0,\n",
            "  \"classif_dropout\": 0.0,\n",
            "  \"classifier_dropout\": 0.0,\n",
            "  \"d_model\": 512,\n",
            "  \"decoder_attention_heads\": 8,\n",
            "  \"decoder_ffn_dim\": 2048,\n",
            "  \"decoder_layerdrop\": 0.0,\n",
            "  \"decoder_layers\": 6,\n",
            "  \"decoder_start_token_id\": 62517,\n",
            "  \"dropout\": 0.1,\n",
            "  \"encoder_attention_heads\": 8,\n",
            "  \"encoder_ffn_dim\": 2048,\n",
            "  \"encoder_layerdrop\": 0.0,\n",
            "  \"encoder_layers\": 6,\n",
            "  \"eos_token_id\": 0,\n",
            "  \"forced_eos_token_id\": 0,\n",
            "  \"id2label\": {\n",
            "    \"0\": \"LABEL_0\",\n",
            "    \"1\": \"LABEL_1\",\n",
            "    \"2\": \"LABEL_2\"\n",
            "  },\n",
            "  \"init_std\": 0.02,\n",
            "  \"is_encoder_decoder\": true,\n",
            "  \"label2id\": {\n",
            "    \"LABEL_0\": 0,\n",
            "    \"LABEL_1\": 1,\n",
            "    \"LABEL_2\": 2\n",
            "  },\n",
            "  \"max_length\": 512,\n",
            "  \"max_position_embeddings\": 512,\n",
            "  \"model_type\": \"marian\",\n",
            "  \"normalize_before\": false,\n",
            "  \"normalize_embedding\": false,\n",
            "  \"num_beams\": 4,\n",
            "  \"num_hidden_layers\": 6,\n",
            "  \"pad_token_id\": 62517,\n",
            "  \"scale_embedding\": true,\n",
            "  \"static_position_embeddings\": true,\n",
            "  \"transformers_version\": \"4.17.0\",\n",
            "  \"use_cache\": true,\n",
            "  \"vocab_size\": 62518\n",
            "}\n",
            "\n"
          ]
        }
      ]
    },
    {
      "cell_type": "markdown",
      "source": [
        "Let's test it out:"
      ],
      "metadata": {
        "id": "OaE_hjI07q1F"
      }
    },
    {
      "cell_type": "code",
      "source": [
        "translator(\"You're a genius Anthony.\")[0][\"translation_text\"]\n"
      ],
      "metadata": {
        "colab": {
          "base_uri": "https://localhost:8080/",
          "height": 35
        },
        "id": "QsU7L2Pe7JNh",
        "outputId": "697010b5-363e-4901-d03d-830abd4c7da9"
      },
      "execution_count": 51,
      "outputs": [
        {
          "output_type": "execute_result",
          "data": {
            "text/plain": [
              "'Ты гений Энтони.'"
            ],
            "application/vnd.google.colaboratory.intrinsic+json": {
              "type": "string"
            }
          },
          "metadata": {},
          "execution_count": 51
        }
      ]
    },
    {
      "cell_type": "markdown",
      "source": [
        "The pipeline API is pretty straightforward; we get the output by simply passing the text to the translator pipeline object."
      ],
      "metadata": {
        "id": "M5T3_I8Q7z9d"
      }
    },
    {
      "cell_type": "markdown",
      "source": [
        "# Now Loading our newsgroups dataset"
      ],
      "metadata": {
        "id": "Kv0Pg7eU8FRA"
      }
    },
    {
      "cell_type": "code",
      "source": [
        "from sklearn.datasets import fetch_20newsgroups"
      ],
      "metadata": {
        "id": "HsNGCLm0-C4w"
      },
      "execution_count": 122,
      "outputs": []
    },
    {
      "cell_type": "code",
      "source": [
        "# Helper function for Cleaning the data set\n",
        "\n",
        "def clean(post: str, remove_it: tuple):\n",
        "  new_lines = []\n",
        "  for line in post.splitlines():\n",
        "        if not line.startswith(remove_it):\n",
        "            new_lines.append(line)\n",
        "  return '\\n'.join(new_lines)\n",
        "\n",
        "remove_it = (\n",
        "      'From:',\n",
        "      'Subject:',\n",
        "      'Reply-To:',\n",
        "      'In-Reply-To:',\n",
        "      'Nntp-Posting-Host:',\n",
        "      'Organization:',\n",
        "      'X-Mailer:',\n",
        "      'In article <',\n",
        "      'Lines:',\n",
        "      'NNTP-Posting-Host:',\n",
        "      'Summary:',\n",
        "      'Article-I.D.:'\n",
        "  )\n"
      ],
      "metadata": {
        "id": "dM2lbr98-C7K"
      },
      "execution_count": 81,
      "outputs": []
    },
    {
      "cell_type": "code",
      "source": [
        "categories = ['alt.atheism', 'talk.religion.misc',\n",
        "               'comp.graphics', 'sci.space']\n",
        "# fetch the test dataset\n",
        "newsgroups_test = fetch_20newsgroups(subset='test',\n",
        "                                      categories=categories)\n",
        "x_test = data_test.data\n",
        "x_test = [clean(p, remove_it) for p in x_test]\n",
        "\n"
      ],
      "metadata": {
        "id": "HNNsrgLa7JQG"
      },
      "execution_count": 82,
      "outputs": []
    },
    {
      "cell_type": "code",
      "source": [
        "#print sample of our data\n",
        "#print(\"\\n\".join(newsgroups_test.data[0].split(\"\\n\")[:5]))\n",
        "x_test[2].split(\"\\n\")"
      ],
      "metadata": {
        "colab": {
          "base_uri": "https://localhost:8080/"
        },
        "id": "eW5P9cgi7JSc",
        "outputId": "84e17577-5a85-43fc-a181-18e5da29ff82"
      },
      "execution_count": 104,
      "outputs": [
        {
          "output_type": "execute_result",
          "data": {
            "text/plain": [
              "['X-Newsreader: rusnews v1.02',\n",
              " '',\n",
              " 'acooper@mac.cc.macalstr.edu (Turin Turambar, ME Department of Utter Misery) writes:',\n",
              " '> Did that FAQ ever got modified to re-define strong atheists as not those who',\n",
              " '> assert the nonexistence of God, but as those who assert that they BELIEVE in ',\n",
              " '> the nonexistence of God?',\n",
              " '',\n",
              " 'In a word, yes.',\n",
              " '',\n",
              " '',\n",
              " 'mathew']"
            ]
          },
          "metadata": {},
          "execution_count": 104
        }
      ]
    },
    {
      "cell_type": "markdown",
      "source": [
        "# Translation Examples"
      ],
      "metadata": {
        "id": "hyZBFDT3JFo3"
      }
    },
    {
      "cell_type": "markdown",
      "source": [
        "# First 10 sentences"
      ],
      "metadata": {
        "id": "DktaiZg4E8Qo"
      }
    },
    {
      "cell_type": "code",
      "source": [
        "for i in range(0, 10):\n",
        "  print('English Sentence: ', x_test[0].split(\"\\n\")[i])\n",
        "  print('Russian Translate: ',translator(x_test[0].split(\"\\n\")[i])[0][\"translation_text\"])\n",
        "  print()\n",
        "\n",
        " "
      ],
      "metadata": {
        "colab": {
          "base_uri": "https://localhost:8080/"
        },
        "id": "iXkC9FyLEElq",
        "outputId": "93d4921c-ca07-4c35-c56a-cc385b7494cf"
      },
      "execution_count": 117,
      "outputs": [
        {
          "output_type": "stream",
          "name": "stdout",
          "text": [
            "English Sentence:  News-Software: VAX/VMS VNEWS 1.41\n",
            "Russian Translate:  Новостное программное обеспечение: VAX/VMS VNEWS 1,41\n",
            "\n",
            "English Sentence:  \n",
            "Russian Translate:  Я не знаю, что делать.\n",
            "\n",
            "English Sentence:  \n",
            "Russian Translate:  Я не знаю, что делать.\n",
            "\n",
            "English Sentence:   I am a little confused on all of the models of the 88-89 bonnevilles.\n",
            "Russian Translate:  Я немного запутался со всеми моделями Бонневиль 88-89.\n",
            "\n",
            "English Sentence:  I have heard of the LE SE LSE SSE SSEI. Could someone tell me the\n",
            "Russian Translate:  Я слышала о LE SESSE SSEI.\n",
            "\n",
            "English Sentence:  differences are far as features or performance. I am also curious to\n",
            "Russian Translate:  Мне также любопытно узнать, что такое различия в характеристиках или работе.\n",
            "\n",
            "English Sentence:  know what the book value is for prefereably the 89 model. And how much\n",
            "Russian Translate:  Знаете, какое значение имеет бухгалтерская ценность для 89-й модели.\n",
            "\n",
            "English Sentence:  less than book value can you usually get them for. In other words how\n",
            "Russian Translate:  Обычно их можно получить меньше, чем балансовую стоимость.\n",
            "\n",
            "English Sentence:  much are they in demand this time of year. I have heard that the mid-spring\n",
            "Russian Translate:  Я слышала, что середина весны требует многого в это время года.\n",
            "\n",
            "English Sentence:  early summer is the best time to buy.\n",
            "Russian Translate:  Раннее лето - лучшее время для покупки.\n",
            "\n"
          ]
        }
      ]
    },
    {
      "cell_type": "markdown",
      "source": [
        "# Next 10 sentences"
      ],
      "metadata": {
        "id": "EBSsX5isHB5I"
      }
    },
    {
      "cell_type": "code",
      "source": [
        "for i in range(0, 10):\n",
        "  print('English Sentence: ', x_test[1].split(\"\\n\")[i])\n",
        "  print('Russian Translate: ',translator(x_test[1].split(\"\\n\")[i])[0][\"translation_text\"])\n",
        "  print()\n",
        "\n",
        " "
      ],
      "metadata": {
        "colab": {
          "base_uri": "https://localhost:8080/"
        },
        "id": "GCCHZnW8G35z",
        "outputId": "616a49fb-ae8d-4a6f-b371-d2f555b44997"
      },
      "execution_count": 119,
      "outputs": [
        {
          "output_type": "stream",
          "name": "stdout",
          "text": [
            "English Sentence:  Distribution: world\n",
            "Russian Translate:  Распределение: мир\n",
            "\n",
            "English Sentence:  \n",
            "Russian Translate:  Я не знаю, что делать.\n",
            "\n",
            "English Sentence:  I'm not familiar at all with the format of these \"X-Face:\" thingies, but\n",
            "Russian Translate:  Я совсем не знакома с форматом этих \"Икс-Факс:\" штуковины, но\n",
            "\n",
            "English Sentence:  after seeing them in some folks' headers, I've *got* to *see* them (and\n",
            "Russian Translate:  Увидев их в заголовках некоторых людей, я забыла их увидеть.\n",
            "\n",
            "English Sentence:  maybe make one of my own)!\n",
            "Russian Translate:  Сделай одну из моих)!\n",
            "\n",
            "English Sentence:  \n",
            "Russian Translate:  Я не знаю, что делать.\n",
            "\n",
            "English Sentence:  I've got \"dpg-view\" on my Linux box (which displays \"uncompressed X-Faces\")\n",
            "Russian Translate:  У меня есть \"Dpg-view\" на моем ящике Linux (который показывает \"некорректированные X-Faces\")\n",
            "\n",
            "English Sentence:  and I've managed to compile [un]compface too... but now that I'm *looking*\n",
            "Russian Translate:  и мне тоже удалось составить композицию... но теперь, когда я* выгляжу*\n",
            "\n",
            "English Sentence:  for them, I can't seem to find any X-Face:'s in anyones news headers!  :-(\n",
            "Russian Translate:  Похоже, я не могу найти никакого X-Face:''' в заголовках новостей!\n",
            "\n",
            "English Sentence:  \n",
            "Russian Translate:  Я не знаю, что делать.\n",
            "\n"
          ]
        }
      ]
    },
    {
      "cell_type": "code",
      "source": [
        "for i in range(0, 10):\n",
        "  print('English Sentence: ', x_test[2].split(\"\\n\")[i])\n",
        "  print('Russian Translate: ',translator(x_test[2].split(\"\\n\")[i])[0][\"translation_text\"])\n",
        "  print()\n",
        "\n",
        " "
      ],
      "metadata": {
        "colab": {
          "base_uri": "https://localhost:8080/"
        },
        "id": "qRZLx7TMHJIZ",
        "outputId": "f9ff4dcb-c49f-4f49-faff-942fd1909ecb"
      },
      "execution_count": 120,
      "outputs": [
        {
          "output_type": "stream",
          "name": "stdout",
          "text": [
            "English Sentence:  X-Newsreader: rusnews v1.02\n",
            "Russian Translate:  X-Newsreader: rusnews v1.02\n",
            "\n",
            "English Sentence:  \n",
            "Russian Translate:  Я не знаю, что делать.\n",
            "\n",
            "English Sentence:  acooper@mac.cc.macalstr.edu (Turin Turambar, ME Department of Utter Misery) writes:\n",
            "Russian Translate:  acooper@mac.cc.macalstr.edu (Turin Turambar, ME Department of Utter Misery) пишет:\n",
            "\n",
            "English Sentence:  > Did that FAQ ever got modified to re-define strong atheists as not those who\n",
            "Russian Translate:  > Удалось ли когда-либо модифицировать FAQ, чтобы переосмыслить сильных атеистов как не тех, кто\n",
            "\n",
            "English Sentence:  > assert the nonexistence of God, but as those who assert that they BELIEVE in \n",
            "Russian Translate:  ▪ утверждают, что Бог не существует, но как те, кто утверждает, что они верят\n",
            "\n",
            "English Sentence:  > the nonexistence of God?\n",
            "Russian Translate:  > отсутствие Бога?\n",
            "\n",
            "English Sentence:  \n",
            "Russian Translate:  Я не знаю, что делать.\n",
            "\n",
            "English Sentence:  In a word, yes.\n",
            "Russian Translate:  Одним словом, да.\n",
            "\n",
            "English Sentence:  \n",
            "Russian Translate:  Я не знаю, что делать.\n",
            "\n",
            "English Sentence:  \n",
            "Russian Translate:  Я не знаю, что делать.\n",
            "\n"
          ]
        }
      ]
    },
    {
      "cell_type": "code",
      "source": [
        ""
      ],
      "metadata": {
        "id": "ShOqUmEZO0qN"
      },
      "execution_count": null,
      "outputs": []
    }
  ]
}